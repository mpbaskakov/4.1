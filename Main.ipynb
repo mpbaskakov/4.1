{
 "cells": [
  {
   "cell_type": "markdown",
   "metadata": {},
   "source": [
    "Import section:"
   ]
  },
  {
   "cell_type": "code",
   "execution_count": 1,
   "metadata": {
    "collapsed": true
   },
   "outputs": [],
   "source": [
    "import pandas as pd"
   ]
  },
  {
   "cell_type": "markdown",
   "metadata": {},
   "source": [
    "TOP-3 names function:"
   ]
  },
  {
   "cell_type": "code",
   "execution_count": 2,
   "metadata": {},
   "outputs": [
    {
     "name": "stdout",
     "output_type": "stream",
     "text": [
      "['James', 'Robert', 'Linda']\n"
     ]
    }
   ],
   "source": [
    "def count_top3(years):\n",
    "    names_by_year = {}\n",
    "    for year in years:\n",
    "        names_by_year[year] = pd.read_csv(\n",
    "            'names/yob{}.txt'.format(year),\n",
    "            names=['Name','Gender','Count']\n",
    "        )\n",
    "    names_all = pd.concat(names_by_year)\n",
    "    names_top = names_all.sort_values(by='Count', ascending=False)\n",
    "    names_list = []\n",
    "    for y in range(0, 3):\n",
    "        names_list.append(names_top['Name'][y])\n",
    "    return  names_list\n",
    "print(count_top3([1900, 1950, 2000]))"
   ]
  },
  {
   "cell_type": "markdown",
   "metadata": {},
   "source": [
    "Dynamic function:"
   ]
  },
  {
   "cell_type": "code",
   "execution_count": 3,
   "metadata": {},
   "outputs": [
    {
     "name": "stdout",
     "output_type": "stream",
     "text": [
      "{'M': [150486, 1790871, 1962744], 'F': [299810, 1713259, 1814922]}\n"
     ]
    }
   ],
   "source": [
    "def count_dynamics(years):\n",
    "    names_by_year = {}\n",
    "    names_by_gender = dict.fromkeys(['M', 'F'], [])\n",
    "    for year in years:\n",
    "        names_by_year[year] = pd.read_csv(\n",
    "            'names/yob{}.txt'.format(year),\n",
    "            names=['Name','Gender','Count']\n",
    "        )\n",
    "        names_by_gender['M'] = names_by_gender['M'] + [names_by_year[year][names_by_year[year].Gender=='M'].Count.sum()]\n",
    "        names_by_gender['F'] =  names_by_gender['F'] + [names_by_year[year][names_by_year[year].Gender=='F'].Count.sum()]\n",
    "    return names_by_gender\n",
    "print(count_dynamics([1900, 1950, 2000]))"
   ]
  }
 ],
 "metadata": {
  "kernelspec": {
   "display_name": "Python 3",
   "language": "python",
   "name": "python3"
  },
  "language_info": {
   "codemirror_mode": {
    "name": "ipython",
    "version": 3
   },
   "file_extension": ".py",
   "mimetype": "text/x-python",
   "name": "python",
   "nbconvert_exporter": "python",
   "pygments_lexer": "ipython3",
   "version": "3.6.1"
  }
 },
 "nbformat": 4,
 "nbformat_minor": 2
}
