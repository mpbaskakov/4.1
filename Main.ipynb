{
 "cells": [
  {
   "cell_type": "markdown",
   "metadata": {},
   "source": [
    "Import section:"
   ]
  },
  {
   "cell_type": "code",
   "execution_count": 1,
   "metadata": {
    "collapsed": true
   },
   "outputs": [],
   "source": [
    "import pandas as pd\n",
    "\n",
    "DATA_PATH = 'names/yob'"
   ]
  },
  {
   "cell_type": "markdown",
   "metadata": {},
   "source": [
    "TOP-3 names function:"
   ]
  },
  {
   "cell_type": "code",
   "execution_count": 2,
   "metadata": {},
   "outputs": [
    {
     "name": "stdout",
     "output_type": "stream",
     "text": [
      "dict_keys(['James', 'John', 'Robert'])\n"
     ]
    }
   ],
   "source": [
    "def count_top3(years):\n",
    "    names_by_year = {}\n",
    "    for year in years:\n",
    "        names_by_year[year] = pd.read_csv(\n",
    "            DATA_PATH + str(year) + '.txt',\n",
    "            names=['Name','Gender','Count']\n",
    "        )\n",
    "    names_all = pd.concat(names_by_year)\n",
    "    names_top = names_all.groupby('Name').sum().sort_values(by='Count', ascending=False).head(3)\n",
    "    names_top = names_top['Count'].to_dict().keys()\n",
    "    return  names_top\n",
    "print(count_top3([1900, 1950, 2000]))"
   ]
  },
  {
   "cell_type": "markdown",
   "metadata": {},
   "source": [
    "Dynamic function:"
   ]
  },
  {
   "cell_type": "code",
   "execution_count": 3,
   "metadata": {},
   "outputs": [
    {
     "name": "stdout",
     "output_type": "stream",
     "text": [
      "{'M': [150486, 1790871, 1962744], 'F': [299810, 1713259, 1814922]}\n"
     ]
    }
   ],
   "source": [
    "def count_dynamics(years):\n",
    "    names_by_year = {}\n",
    "    names_by_gender = dict.fromkeys(['M', 'F'], [])\n",
    "    for year in years:\n",
    "        names_by_year[year] = pd.read_csv(\n",
    "            DATA_PATH + str(year) + '.txt',\n",
    "            names=['Name','Gender','Count']\n",
    "        )\n",
    "        names_by_gender['M'] = names_by_gender['M'] + [names_by_year[year][names_by_year[year].Gender=='M'].Count.sum()]\n",
    "        names_by_gender['F'] =  names_by_gender['F'] + [names_by_year[year][names_by_year[year].Gender=='F'].Count.sum()]\n",
    "    return names_by_gender\n",
    "print(count_dynamics([1900, 1950, 2000]))"
   ]
  },
  {
   "cell_type": "code",
   "execution_count": null,
   "metadata": {
    "collapsed": true
   },
   "outputs": [],
   "source": []
  }
 ],
 "metadata": {
  "kernelspec": {
   "display_name": "Python 3",
   "language": "python",
   "name": "python3"
  },
  "language_info": {
   "codemirror_mode": {
    "name": "ipython",
    "version": 3
   },
   "file_extension": ".py",
   "mimetype": "text/x-python",
   "name": "python",
   "nbconvert_exporter": "python",
   "pygments_lexer": "ipython3",
   "version": "3.6.1"
  }
 },
 "nbformat": 4,
 "nbformat_minor": 2
}
